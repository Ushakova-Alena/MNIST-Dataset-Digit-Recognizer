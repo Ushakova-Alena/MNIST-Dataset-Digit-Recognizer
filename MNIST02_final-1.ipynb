{
 "cells": [
  {
   "cell_type": "markdown",
   "metadata": {},
   "source": [
    "# Алгоритмы классификации"
   ]
  },
  {
   "cell_type": "markdown",
   "metadata": {},
   "source": [
    "## MNIST Digits\n",
    "\n",
    "Воспользуйтесь данными с https://www.kaggle.com/c/digit-recognizer/data \n",
    "Далее предполагается, что файлы test.csv и train.csv расположены в одной директории с notebook-ом.\n",
    "\n",
    "В задании для оценивания качества работы алгоритмов требуется (самостоятельно) реализовать 10-тикратную перекрестную проверку (https://en.wikipedia.org/wiki/Cross-validation_(statistics)). В качестве ошибки используется средняя доля ошибок. Один раз (для kNN) в методических целях требуется дополнительно найти среднюю ошибку на обучающей части выборок перекрестной проверки. \n",
    "\n",
    "Разбиение на подвыборки должно быть одинаково для всех алгоритмов."
   ]
  },
  {
   "cell_type": "code",
   "execution_count": 1,
   "metadata": {
    "collapsed": false
   },
   "outputs": [],
   "source": [
    "import numpy as np\n",
    "from sklearn.neighbors import KNeighborsClassifier\n",
    "from sklearn.model_selection import cross_val_score\n",
    "import pylab as plt\n",
    "%matplotlib inline\n",
    "from math import log\n",
    "from sklearn.svm import LinearSVC"
   ]
  },
  {
   "cell_type": "code",
   "execution_count": 2,
   "metadata": {
    "collapsed": false
   },
   "outputs": [],
   "source": [
    "import numpy as np\n",
    "\n",
    "train_values = []\n",
    "train_data_arr = []\n",
    "a = False\n",
    "\n",
    "infile = open('train.csv', 'r')\n",
    "import csv\n",
    "for row in csv.reader(infile):\n",
    "    if a:\n",
    "        train_values.append(row[0])\n",
    "        train_data_arr.append(row[1:])\n",
    "    a = True\n",
    "infile.close()\n",
    "\n",
    "for r in range(len(train_values)):\n",
    "    train_values[r] = int(train_values[r])\n",
    "\n",
    "train_data = []\n",
    "for i in range(len(train_data_arr)):\n",
    "    train_data.append(np.zeros((28, 28)))\n",
    "    for count1 in range(28):\n",
    "        for count2 in range(28):\n",
    "            train_data[i][count1][count2] = int(train_data_arr[i][count1*28 + count2])"
   ]
  },
  {
   "cell_type": "code",
   "execution_count": 3,
   "metadata": {
    "collapsed": false
   },
   "outputs": [],
   "source": [
    "train_data_ravel = []\n",
    "for count in range(1000):\n",
    "    train_data_ravel.append(train_data[count].ravel())"
   ]
  },
  {
   "cell_type": "code",
   "execution_count": null,
   "metadata": {
    "collapsed": true
   },
   "outputs": [],
   "source": [
    "# примените метод kNN\n",
    "# http://scikit-learn.org/stable/modules/generated/sklearn.neighbors.KNeighborsClassifier.html\n",
    "# нарисовать графики зависимости ошибки перекрестной проверки на обучающей части и на тестовой части от k. \n",
    "# Сделать вывод об оптимальном k.\n",
    "# (*) какие еще параметры влияют на результат классификации и как?"
   ]
  },
  {
   "cell_type": "code",
   "execution_count": 14,
   "metadata": {
    "collapsed": false
   },
   "outputs": [],
   "source": [
    "from sklearn.model_selection import KFold    \n",
    "    \n",
    "means_knn_train = [0]\n",
    "means_knn_test = [0]\n",
    "\n",
    "means_knn_train_final = [0]\n",
    "means_knn_test_final = [0]\n",
    "\n",
    "\n",
    "kf = KFold(n_splits=10, random_state=42, shuffle=True)\n",
    "    \n",
    "# k итераций:\n",
    "    \n",
    "first = True    \n",
    "    \n",
    "for (train_indexes, test_indexes) in kf.split(train_data[:1000], train_values[:1000]):\n",
    "    knn_train_x=[]\n",
    "    knn_train_y=[]\n",
    "    knn_test_x=[]\n",
    "    knn_test_y=[]\n",
    "    for count in range(len(train_indexes)):\n",
    "        knn_train_x.append(train_data[train_indexes[count]].ravel())\n",
    "        knn_train_y.append(train_values[train_indexes[count]])\n",
    "        \n",
    "    for count in range(len(test_indexes)):\n",
    "        knn_test_x.append(train_data[test_indexes[count]].ravel())\n",
    "        knn_test_y.append(train_values[test_indexes[count]])\n",
    "        \n",
    "    for k in range(1, 10):\n",
    "        knn = KNeighborsClassifier(n_neighbors=k)\n",
    "        knn.fit(knn_train_x, knn_train_y)\n",
    "            \n",
    "        current_score = knn.score(knn_train_x, knn_train_y) # ошибка на train для этой итерации (из k)\n",
    "        if (first):\n",
    "            means_knn_train.append(1 - current_score)\n",
    "        else:\n",
    "            means_knn_train[k] += 1 - current_score\n",
    "        \n",
    "        current_score = knn.score(knn_test_x, knn_test_y) # ошибка на test для этой итерации (из k)\n",
    "        if(first):\n",
    "            means_knn_test.append(1 - current_score)\n",
    "        else:\n",
    "            means_knn_test[k] += 1 - current_score\n",
    "    first = False\n",
    "    \n",
    "for k in range(1, len(means_knn_train)):\n",
    "    means_knn_train_final.append(means_knn_train[k] / 10)\n",
    "\n",
    "for k in range(1, len(means_knn_test)):\n",
    "    means_knn_test_final.append(means_knn_test[k] / 10)\n",
    "    \n"
   ]
  },
  {
   "cell_type": "code",
   "execution_count": 20,
   "metadata": {
    "collapsed": false
   },
   "outputs": [
    {
     "data": {
      "image/png": "[encoded data removed]",
      "text/plain": [
       "<matplotlib.figure.Figure at 0x3fa9bda0>"
      ]
     },
     "metadata": {},
     "output_type": "display_data"
    }
   ],
   "source": [
    "plt.title(\"Cross-validation estimation of accuracy on train data\")\n",
    "plt.plot(means_knn_train_final, label=\"Cross-validation estimation of accuracy on train data\")\n",
    "plt.ylabel('Scores')\n",
    "plt.xlabel('k in kNN')\n",
    "plt.xlim([1, 9])\n",
    "plt.ylim([0, 0.18])\n",
    "plt.grid()\n",
    "plt.show()\n"
   ]
  },
  {
   "cell_type": "code",
   "execution_count": 21,
   "metadata": {
    "collapsed": false
   },
   "outputs": [
    {
     "data": {
      "image/png": "[encoded data removed]",
      "text/plain": [
       "<matplotlib.figure.Figure at 0x3f808748>"
      ]
     },
     "metadata": {},
     "output_type": "display_data"
    }
   ],
   "source": [
    "plt.title(\"Cross-validation estimation of accuracy on test data\")\n",
    "plt.plot(means_knn_test_final, label=\"Cross-validation estimation of accuracy on test data\")\n",
    "plt.ylabel('Scores')\n",
    "plt.xlabel('k in kNN')\n",
    "plt.xlim([1, 9])\n",
    "plt.ylim([0, 0.18])\n",
    "plt.grid()\n",
    "plt.show()"
   ]
  },
  {
   "cell_type": "markdown",
   "metadata": {
    "collapsed": false
   },
   "source": [
    "Как видно из графика, отптимальное k = 3, т.к. при k = 1 на больших данных может возникнуть эффект \"переобучения\""
   ]
  },
  {
   "cell_type": "code",
   "execution_count": 27,
   "metadata": {
    "collapsed": false
   },
   "outputs": [
    {
     "name": "stdout",
     "output_type": "stream",
     "text": [
      "[0.42302502320208801, 0.24701697172332282, 0.18607524817521504, 0.14359152557397192, 0.15342013993773662, 0.1768670384505624, 0.19173965278235661, 0.19371129225399619, 0.19173965278235661, 0.19274975379245762, 0.19077811432081826, 0.19173965278235661, 0.19274975379245762, 0.19274975379245762, 0.19371129225399619, 0.19274975379245762, 0.19274975379245762, 0.19274975379245762, 0.19274975379245762, 0.19274975379245762, 0.19173965278235661]\n"
     ]
    }
   ],
   "source": [
    "# примените метод SVM\n",
    "# http://scikit-learn.org/stable/modules/generated/sklearn.svm.LinearSVC.html\n",
    "# нарисовать график зависимости ошибки перекрестной проверки на тестовой части от регуляризации C (log масштаб перебора по C). \n",
    "# Сделать вывод об оптимальном C.\n",
    "# Что означают и как влияют параметры multi_class, fit_intercept, intercept_scaling, class_weight, random_state?\n",
    "# Нарисуйте график зависимости числа опорных векторов как функцию от C\n",
    "\n",
    "means_svm = [0]\n",
    "\n",
    "\n",
    "for k in range(-10, 11):\n",
    "    clf = LinearSVC(C=10**k)\n",
    "    scores = cross_val_score(clf, train_data_ravel[:1000], train_values[:1000], cv=10)\n",
    "    means_svm.append(1-scores.mean())\n",
    "\n",
    "print(means_svm[1:])"
   ]
  },
  {
   "cell_type": "code",
   "execution_count": 28,
   "metadata": {
    "collapsed": false
   },
   "outputs": [
    {
     "data": {
      "image/png": "[encoded data removed]",
      "text/plain": [
       "<matplotlib.figure.Figure at 0x3f89eb00>"
      ]
     },
     "metadata": {},
     "output_type": "display_data"
    }
   ],
   "source": [
    "xlist = [pow(10, i) for i in range(-10, 11)]\n",
    "fig = plt.figure()\n",
    "ax = fig.add_subplot (2, 1, 1)\n",
    "line = ax.plot(xlist, means_svm[1:], color='blue', lw=2)\n",
    "ax.set_xscale('log')\n",
    "plt.grid()\n",
    "plt.show() "
   ]
  },
  {
   "cell_type": "code",
   "execution_count": 29,
   "metadata": {
    "collapsed": false
   },
   "outputs": [
    {
     "name": "stdout",
     "output_type": "stream",
     "text": [
      "Как видно из графика, отптимальное C = 10 ^ -7\n"
     ]
    }
   ],
   "source": [
    "print('Как видно из графика, отптимальное C = 10 ^', np.argmin(means_svm[1:]) - 10)"
   ]
  },
  {
   "cell_type": "code",
   "execution_count": null,
   "metadata": {
    "collapsed": false
   },
   "outputs": [],
   "source": [
    "# примените метод DT\n",
    "# http://scikit-learn.org/stable/modules/generated/sklearn.tree.DecisionTreeClassifier.html\n",
    "# Как влияют и что означают параметры max_depth, min_samples_split, min_samples_leaf, criteria на качество классификатора?\n",
    "# Выбрать наилучшие значения параметров по вашим экспериментам"
   ]
  },
  {
   "cell_type": "code",
   "execution_count": null,
   "metadata": {
    "collapsed": true
   },
   "outputs": [],
   "source": [
    "поделить min_mistake сразу на 10"
   ]
  },
  {
   "cell_type": "code",
   "execution_count": 4,
   "metadata": {
    "collapsed": false
   },
   "outputs": [
    {
     "name": "stdout",
     "output_type": "stream",
     "text": [
      "max_depth =  9 ; min_samples_split =  5 ; min_samples_leaf =  2 criterion =  entropy \n",
      " Final mistake =  0.338600730274 \n",
      "\n"
     ]
    }
   ],
   "source": [
    "from sklearn.tree import DecisionTreeClassifier\n",
    "from itertools import product\n",
    "\n",
    "\n",
    "c = list(product(range(1, 10), range(2, 10), range(1, 10), [\"gini\", \"entropy\"]))\n",
    "\n",
    "\n",
    "min_mistake = 1\n",
    "\n",
    "for m_d, m_s_s, m_s_l, cr in c:\n",
    "    clf = DecisionTreeClassifier(random_state=42, max_depth = m_d,\n",
    "                                 min_samples_split = m_s_s, min_samples_leaf = m_s_l, criterion = cr)\n",
    "\n",
    "    scores = cross_val_score(clf, train_data_ravel[:1000], train_values[:1000], cv=5) #change 10\n",
    "    mistake = 0\n",
    "    for count in range(len(scores)):\n",
    "        mistake += 1 - scores[count]\n",
    "    mistake /= 5 # change 10\n",
    "    if mistake < min_mistake:\n",
    "        min_mistake = mistake\n",
    "        m_d_best = m_d\n",
    "        m_s_s_best = m_s_s\n",
    "        m_s_l_best = m_s_l\n",
    "        cr_best = cr\n",
    "print('max_depth = ', m_d_best,'; min_samples_split = ', m_s_s_best,\n",
    "      '; min_samples_leaf = ', m_s_l_best, 'criterion = ', cr_best,\n",
    "      '\\n Final mistake = ', min_mistake, '\\n')"
   ]
  },
  {
   "cell_type": "markdown",
   "metadata": {},
   "source": [
    "Параметр max_depth определяет максимальную высоту решающего дерева. Чем она больше, тем лучше до определенного момента (пока не возникнет эффект \"переобучения\"). Параметр min_samples_split отвечает за количество элементов, необходимых для разделения внутреннего узла. Параметр min_samples_leaf есть минимальное число элементов в листьях дерева. Параметр criteria представляет собой функцию оценки качества разбиения. Исходя из эксперимента, оптимальное значение равно \"entropy\"."
   ]
  },
  {
   "cell_type": "code",
   "execution_count": null,
   "metadata": {
    "collapsed": false
   },
   "outputs": [],
   "source": [
    "# примените метод NN\n",
    "# http://scikit-learn.org/stable/modules/generated/sklearn.neural_network.MLPClassifier.html\n",
    "# Как влияет параметр hidden_layer_sizes на качество классификации?\n",
    "# Выбрать наилучшее значение параметра по вашим экспериментам\n",
    "# (***) воспользуйтесь NN из theano (http://deeplearning.net/software/theano/tutorial/ и http://deeplearning.net/tutorial/"
   ]
  },
  {
   "cell_type": "code",
   "execution_count": 10,
   "metadata": {
    "collapsed": false
   },
   "outputs": [
    {
     "name": "stdout",
     "output_type": "stream",
     "text": [
      "tuple =  1 ; length =  1 \n",
      " Final mistake =  0.376866390397 \n",
      "\n"
     ]
    }
   ],
   "source": [
    "from sklearn.neural_network import MLPClassifier\n",
    "\n",
    "c = list(product(range(1, 10), range(1, 10)))\n",
    "\n",
    "min_mistake = 1\n",
    "         \n",
    "for n, m in c:\n",
    "    mlp = MLPClassifier(hidden_layer_sizes=(n, m), random_state=42)\n",
    "    scores = cross_val_score(clf, train_data_ravel[:1000], train_values[:1000], cv=5) #change 10\n",
    "    mistake = 0\n",
    "    for count in range(len(scores)):\n",
    "        mistake += 1 - scores[count]\n",
    "    mistake /= 5 # change 10\n",
    "    if mistake < min_mistake:\n",
    "        min_mistake = mistake\n",
    "        m_best = m\n",
    "        n_best = n\n",
    "print('tuple = ', m_best,'; length = ',n_best,\n",
    "      '\\n Final mistake = ', min_mistake, '\\n')"
   ]
  },
  {
   "cell_type": "code",
   "execution_count": null,
   "metadata": {
    "collapsed": false
   },
   "outputs": [],
   "source": [
    "# Сделайте вывод о наилучшем методе и его оптимальных параметрах"
   ]
  },
  {
   "cell_type": "markdown",
   "metadata": {},
   "source": [
    "Таким образом, оптимальным является метод k ближайших соседей с параметром k = 3. Ошибка в этом случае равна приблезительно 15%. Точность, соответственно, 85%."
   ]
  },
  {
   "cell_type": "code",
   "execution_count": null,
   "metadata": {
    "collapsed": true
   },
   "outputs": [],
   "source": [
    "# (*) Обучите наилучший метод с оптимальными параметрами на полной выборке, \n",
    "# примените к тестовой выборке соревнования и загрузите результат на kaggle"
   ]
  }
 ],
 "metadata": {
  "anaconda-cloud": {},
  "celltoolbar": "Raw Cell Format",
  "kernelspec": {
   "display_name": "Python [conda root]",
   "language": "python",
   "name": "conda-root-py"
  },
  "language_info": {
   "codemirror_mode": {
    "name": "ipython",
    "version": 3
   },
   "file_extension": ".py",
   "mimetype": "text/x-python",
   "name": "python",
   "nbconvert_exporter": "python",
   "pygments_lexer": "ipython3",
   "version": "3.5.2"
  }
 },
 "nbformat": 4,
 "nbformat_minor": 2
}
